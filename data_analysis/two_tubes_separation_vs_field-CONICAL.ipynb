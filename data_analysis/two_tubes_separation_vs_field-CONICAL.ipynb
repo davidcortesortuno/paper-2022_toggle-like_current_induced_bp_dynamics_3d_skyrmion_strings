{
 "cells": [
  {
   "cell_type": "code",
   "execution_count": 16,
   "metadata": {},
   "outputs": [],
   "source": [
    "import numpy as np\n",
    "import oommfpy as op\n",
    "import matplotlib.pyplot as plt\n",
    "from pathlib import Path\n",
    "import re\n",
    "\n",
    "import matplotlib.patheffects as PathEffects"
   ]
  },
  {
   "cell_type": "markdown",
   "metadata": {},
   "source": [
    "# Parameters"
   ]
  },
  {
   "cell_type": "code",
   "execution_count": null,
   "metadata": {},
   "outputs": [],
   "source": [
    "Ms = 4.60545e5\n",
    "A = 7.875e-12\n",
    "# A = 6e-12\n",
    "D = 0.6e-3\n",
    "LD = 4 * np.pi * A / D"
   ]
  },
  {
   "cell_type": "markdown",
   "metadata": {},
   "source": [
    "# Separation of tubes"
   ]
  },
  {
   "cell_type": "code",
   "execution_count": 5,
   "metadata": {},
   "outputs": [
    {
     "name": "stdout",
     "output_type": "stream",
     "text": [
      "# t (s)\tmx ()\tmy ()\tmz ()\tE_total (J)\tB_extx (T)\tB_exty (T)\tB_extz (T)\tE_exch (J)\tmaxTorque (T)\tSkSep (% of Lx)\n",
      "0\t-0.023771321\t-0.43882203\t0.0016494547\t-2.2050205e-15\t0\t-0.059999935\t0\t-2.2231856e-15\t4.275404\t0.05\n",
      "5.001753255220634e-10\t-0.018461477\t-0.4158619\t0.00094879785\t-4.526637e-15\t0\t-0.059999935\t0\t-3.0552114e-15\t0.12597205\t0.05\n",
      "1.0013368708436832e-09\t-0.020902293\t-0.4183073\t0.0006096853\t-4.5510674e-15\t0\t-0.059999935\t0\t-3.062912e-15\t0.027363941\t0.05\n",
      "1.5003153447283552e-09\t-0.020954555\t-0.41830677\t0.00051317044\t-4.5597973e-15\t0\t-0.059999935\t0\t-3.0676846e-15\t0.017662903\t0.05\n",
      "2e-09\t-0.020738084\t-0.41817147\t0.00044273026\t-4.5634785e-15\t0\t-0.059999935\t0\t-3.070052e-15\t0.013122783\t0.05\n",
      "2e-09\t0.007861633\t-0.3928176\t0.001318966\t-4.6096376e-15\t0\t-0.059999935\t0\t-3.1512446e-15\t3.099581e-06\t0.05\n",
      "3.0007978479429374e-09\t-0.020876024\t-0.41845238\t0.0006143867\t-4.5466577e-15\t0\t-0.059999935\t0\t-3.0583346e-15\t0.026779685\t0.1\n",
      "3.500479912847067e-09\t-0.020688163\t-0.41881102\t0.00047800594\t-4.5537703e-15\t0\t-0.059999935\t0\t-3.0610928e-15\t0.016766837\t0.1\n",
      "4e-09\t-0.020351106\t-0.4187857\t0.0004040075\t-4.557333e-15\t0\t-0.059999935\t0\t-3.0630566e-15\t0.012724858\t0.1\n"
     ]
    }
   ],
   "source": [
    "!head ../sims/mumax3/two_tubes_separation_conical-bg_Co8Zn9Mn3/two_tubes_D_0d6e-3_A_5d7295e-12_LD_120nm.out/table.txt"
   ]
  },
  {
   "cell_type": "code",
   "execution_count": 101,
   "metadata": {},
   "outputs": [
    {
     "name": "stdout",
     "output_type": "stream",
     "text": [
      "Headers: ['t', 'mx', 'my', 'mz', 'E_total', 'B_extx', 'B_exty', 'B_extz', 'E_exch', 'maxTorque']\n"
     ]
    }
   ],
   "source": [
    "ENERGY_FILE = Path('../sims/mumax3/two_tubes_separation_conical-bg_Co8Zn9Mn3/conical_D_0d6e-3_A_5d7295e-12_LD_120nm.out/table.txt')\n",
    "energyd = np.loadtxt(ENERGY_FILE)\n",
    "\n",
    "with open(ENERGY_FILE, 'r') as F:\n",
    "    header = F.readline().lstrip('# ')\n",
    "    # print(header)\n",
    "header = re.findall(r'(?:^|(?<=[\\t\\)]))[a-zA-Z_\\( ]+(?=\\()', header)\n",
    "header = [txt.rstrip() for txt in header]\n",
    "print('Headers:', header)\n",
    "\n",
    "energy_conicalbg = {}\n",
    "for h, hdr in enumerate(header):\n",
    "    energy_conicalbg[hdr] = energyd[:, h]\n",
    "    \n",
    "final_step = energy_conicalbg['maxTorque'] < 1e-5\n",
    "for h, hdr in enumerate(header):\n",
    "    energy_conicalbg[hdr] = energy_conicalbg[hdr][final_step]"
   ]
  },
  {
   "cell_type": "code",
   "execution_count": 103,
   "metadata": {},
   "outputs": [
    {
     "data": {
      "text/plain": [
       "{'t': array([2.0e-09, 4.0e-09, 6.0e-09, 8.0e-09, 1.0e-08, 1.2e-08, 1.4e-08,\n",
       "        1.6e-08]),\n",
       " 'mx': array([-3.0763796e-02, -1.2688616e-02, -4.9547330e-03, -1.4066792e-03,\n",
       "        -4.7229585e-09, -4.6593804e-09, -2.4977185e-09, -3.6239625e-09]),\n",
       " 'my': array([-0.41222095, -0.52342796, -0.62931144, -0.732401  , -0.8272125 ,\n",
       "        -0.8816012 , -0.91162205, -0.9305188 ]),\n",
       " 'mz': array([-1.3987224e-09,  1.7256964e-09,  1.1625744e-09,  0.0000000e+00,\n",
       "         4.7228320e-04,  2.2947279e-04, -1.4234270e-07, -1.0303316e-07]),\n",
       " 'E_total': array([-4.5866610e-15, -5.4908580e-15, -6.6061747e-15, -7.9237460e-15,\n",
       "        -9.4335110e-15, -1.1092498e-14, -1.2829510e-14, -1.4612265e-14]),\n",
       " 'B_extx': array([0., 0., 0., 0., 0., 0., 0., 0.]),\n",
       " 'B_exty': array([-0.05999993, -0.07999998, -0.09999987, -0.11999987, -0.1399996 ,\n",
       "        -0.15999997, -0.18000026, -0.19999972]),\n",
       " 'B_extz': array([0., 0., 0., 0., 0., 0., 0., 0.]),\n",
       " 'E_exch': array([-3.0990077e-15, -2.8562940e-15, -2.5447358e-15, -2.1562653e-15,\n",
       "        -1.7204786e-15, -1.4390080e-15, -1.2658737e-15, -1.1439011e-15]),\n",
       " 'maxTorque': array([2.7897042e-06, 2.7412514e-06, 2.7838958e-06, 2.9269784e-06,\n",
       "        2.7220574e-06, 2.9770654e-06, 2.9762589e-06, 3.0019628e-06])}"
      ]
     },
     "execution_count": 103,
     "metadata": {},
     "output_type": "execute_result"
    }
   ],
   "source": [
    "energy_conicalbg"
   ]
  },
  {
   "cell_type": "code",
   "execution_count": 102,
   "metadata": {},
   "outputs": [
    {
     "name": "stdout",
     "output_type": "stream",
     "text": [
      "Headers: ['t', 'mx', 'my', 'mz', 'E_total', 'B_extx', 'B_exty', 'B_extz', 'E_exch', 'maxTorque', 'SkSep']\n"
     ]
    }
   ],
   "source": [
    "ENERGY_FILE = Path('../sims/mumax3/two_tubes_separation_conical-bg_Co8Zn9Mn3/two_tubes_D_0d6e-3_A_5d7295e-12_LD_120nm.out/table.txt')\n",
    "energyd = np.loadtxt(ENERGY_FILE)\n",
    "\n",
    "with open(ENERGY_FILE, 'r') as F:\n",
    "    header = F.readline().lstrip('# ')\n",
    "    # print(header)\n",
    "header = re.findall(r'(?:^|(?<=[\\t\\)]))[a-zA-Z_\\( ]+(?=\\()', header)\n",
    "header = [txt.rstrip() for txt in header]\n",
    "print('Headers:', header)\n",
    "\n",
    "energy_data = {}\n",
    "for h, hdr in enumerate(header):\n",
    "    energy_data[hdr] = energyd[:, h]"
   ]
  },
  {
   "cell_type": "code",
   "execution_count": 82,
   "metadata": {},
   "outputs": [],
   "source": [
    "# for m, maxtorque in enumerate(energy_data['maxTorque']):\n",
    "#     if maxtorque < 1e-5:\n",
    "\n",
    "sim_stops = energy_data['maxTorque'] < 1e-5\n",
    "sk_seps = energy_data['SkSep'][sim_stops]\n",
    "by_fields = energy_data['B_exty'][sim_stops]\n",
    "energies = energy_data['E_total'][sim_stops]"
   ]
  },
  {
   "cell_type": "code",
   "execution_count": 84,
   "metadata": {},
   "outputs": [
    {
     "data": {
      "text/plain": [
       "array([0.05, 0.1 , 0.15, 0.2 , 0.25, 0.3 , 0.35, 0.4 , 0.05, 0.1 , 0.15,\n",
       "       0.2 , 0.25, 0.3 , 0.35, 0.4 , 0.05, 0.1 , 0.15, 0.2 , 0.25, 0.3 ,\n",
       "       0.35, 0.4 , 0.05, 0.1 , 0.15, 0.2 , 0.25, 0.3 , 0.35, 0.4 , 0.05,\n",
       "       0.1 , 0.15, 0.2 , 0.25, 0.3 , 0.35, 0.4 , 0.05, 0.1 , 0.15, 0.2 ,\n",
       "       0.25, 0.3 , 0.35, 0.4 , 0.05, 0.1 , 0.15, 0.2 , 0.25, 0.3 , 0.35,\n",
       "       0.4 , 0.05, 0.1 , 0.15, 0.2 , 0.25, 0.3 , 0.35, 0.4 ])"
      ]
     },
     "execution_count": 84,
     "metadata": {},
     "output_type": "execute_result"
    }
   ],
   "source": [
    "sk_seps"
   ]
  },
  {
   "cell_type": "code",
   "execution_count": 83,
   "metadata": {},
   "outputs": [
    {
     "data": {
      "text/plain": [
       "array([-4.60963760e-15, -4.60951140e-15, -4.60270700e-15, -4.60967360e-15,\n",
       "       -4.60966700e-15, -4.60241900e-15, -4.60749500e-15, -4.62211520e-15,\n",
       "       -5.48914660e-15, -5.48111900e-15, -5.48968960e-15, -5.48330380e-15,\n",
       "       -5.48366330e-15, -5.48948600e-15, -5.49668350e-15, -5.49681520e-15,\n",
       "       -6.60564800e-15, -6.60577450e-15, -6.60099130e-15, -6.60082500e-15,\n",
       "       -6.60042400e-15, -6.60033200e-15, -6.60642400e-15, -6.60644200e-15,\n",
       "       -7.92022600e-15, -7.92026540e-15, -7.91704800e-15, -7.91674300e-15,\n",
       "       -7.91638500e-15, -7.91620640e-15, -7.91490700e-15, -7.91495900e-15,\n",
       "       -9.42695500e-15, -9.42687400e-15, -9.42676940e-15, -9.42816000e-15,\n",
       "       -9.42793160e-15, -9.42771100e-15, -9.42706300e-15, -9.42659750e-15,\n",
       "       -1.10883250e-14, -1.10879050e-14, -1.10877155e-14, -1.10870320e-14,\n",
       "       -1.10861020e-14, -1.10857160e-14, -1.10852050e-14, -1.10852735e-14,\n",
       "       -1.28256560e-14, -1.28249920e-14, -1.28244850e-14, -1.28241584e-14,\n",
       "       -1.28225745e-14, -1.28295090e-14, -1.28295090e-14, -1.28295100e-14,\n",
       "       -1.46082660e-14, -1.46076950e-14, -1.46098830e-14, -1.46122700e-14,\n",
       "       -1.46122670e-14, -1.46122670e-14, -1.46122690e-14, -1.46122690e-14])"
      ]
     },
     "execution_count": 83,
     "metadata": {},
     "output_type": "execute_result"
    }
   ],
   "source": [
    "energies"
   ]
  },
  {
   "cell_type": "code",
   "execution_count": 81,
   "metadata": {},
   "outputs": [
    {
     "data": {
      "text/plain": [
       "array([-0.05999993, -0.05999993, -0.05999993, -0.05999993, -0.05999993,\n",
       "       -0.05999993, -0.05999993, -0.05999993, -0.07999998, -0.07999998,\n",
       "       -0.07999998, -0.07999998, -0.07999998, -0.07999998, -0.07999998,\n",
       "       -0.07999998, -0.09999986, -0.09999986, -0.09999987, -0.09999987,\n",
       "       -0.09999987, -0.09999987, -0.09999987, -0.09999987, -0.11999987,\n",
       "       -0.11999987, -0.11999987, -0.11999987, -0.11999987, -0.11999987,\n",
       "       -0.11999987, -0.11999987, -0.1399996 , -0.1399996 , -0.1399996 ,\n",
       "       -0.13999961, -0.13999961, -0.1399996 , -0.1399996 , -0.1399996 ,\n",
       "       -0.15999997, -0.15999997, -0.15999997, -0.15999997, -0.15999997,\n",
       "       -0.15999997, -0.15999997, -0.15999997, -0.18000026, -0.18000026,\n",
       "       -0.18000026, -0.18000025, -0.18000026, -0.18000025, -0.18000026,\n",
       "       -0.18000026, -0.19999973, -0.19999973, -0.19999972, -0.19999973,\n",
       "       -0.19999972, -0.19999972, -0.19999973, -0.19999973])"
      ]
     },
     "execution_count": 81,
     "metadata": {},
     "output_type": "execute_result"
    }
   ],
   "source": [
    "by_fields"
   ]
  },
  {
   "cell_type": "code",
   "execution_count": 150,
   "metadata": {},
   "outputs": [
    {
     "data": {
      "image/png": "[encoded data removed]",
      "text/plain": [
       "<Figure size 432x288 with 1 Axes>"
      ]
     },
     "metadata": {
      "needs_background": "light"
     },
     "output_type": "display_data"
    }
   ],
   "source": [
    "f, ax  = plt.subplots()\n",
    "\n",
    "colors = plt.cm.magma(np.linspace(0, 0.7, 4))\n",
    "for f, FIELD in enumerate([-0.08, -0.1, -0.12, -0.14]):\n",
    "# for FIELD in [-0.12]:\n",
    "    ftr = np.abs(by_fields - (FIELD)) < 1e-5\n",
    "    conical_ftr = np.abs(energy_conicalbg['B_exty'] - FIELD) < 1e-5\n",
    "\n",
    "    ax.plot(sk_seps[ftr],\n",
    "            (energies[ftr] - energy_conicalbg['E_total'][conical_ftr]) * 1e18, \n",
    "            'o-', label=f'{FIELD * 1e3:.0f} mT', color=colors[f])\n",
    "    \n",
    "ax.legend()\n",
    "ax.set_xlabel('Initial separation ' + r'$\\times \\quad L_{x}$')\n",
    "ax.set_ylabel(r'$E - E_{\\mathrm{conical}} \\quad \\times \\quad 10^{18}$')\n",
    "\n",
    "plt.savefig('two_tubes_separation_vs_field_energies.pdf', bbox_inches='tight')"
   ]
  },
  {
   "cell_type": "code",
   "execution_count": 108,
   "metadata": {},
   "outputs": [],
   "source": [
    "import pyvista as pv"
   ]
  },
  {
   "cell_type": "code",
   "execution_count": 136,
   "metadata": {},
   "outputs": [],
   "source": [
    "SNAPS_DIR = Path('two_tubes_separation_snapshots')\n",
    "SNAPS_DIR.mkdir(exist_ok=True)"
   ]
  },
  {
   "cell_type": "code",
   "execution_count": 154,
   "metadata": {},
   "outputs": [],
   "source": [
    "by = -140\n",
    "sep = '005'\n",
    "\n",
    "for sep in [f'{int(s):03d}' for s in range(5, 41, 5)]:\n",
    "    data = op.MagnetisationData(f'../sims/mumax3/two_tubes_separation_conical-bg_Co8Zn9Mn3/'\n",
    "                                f'two_tubes_D_0d6e-3_A_5d7295e-12_LD_120nm.out/m_tubeSep_{sep}_pLx_By_-{abs(by):06d}_mT.ovf')\n",
    "    data.generate_coordinates()\n",
    "    data.generate_field()\n",
    "\n",
    "    grid = pv.RectilinearGrid(*(d * 1e9 for d in data.grid))\n",
    "\n",
    "    grid.cell_arrays.update(dict(my=data.my))\n",
    "    grid.cell_arrays.update(dict(mz=data.mz))\n",
    "    grid.cell_arrays.update(dict(mx=data.mx))\n",
    "\n",
    "    grid = grid.cell_data_to_point_data()\n",
    "    grid.point_arrays.update(dict(m_vec=np.column_stack((grid.get_array('mx'),\n",
    "                                                         grid.get_array('my'),\n",
    "                                                         grid.get_array('mz')))))\n",
    "\n",
    "    contours = grid.contour(scalars='my', isosurfaces=[0])\n",
    "\n",
    "    # ------------------------------------------------------------------------------\n",
    "\n",
    "    p = pv.Plotter(off_screen=False, notebook=True, window_size=[800, 400])\n",
    "\n",
    "    # box = pyvista.Box([-0.03, 0.03, -0.03, 0.03, -0.03, 0.03])\n",
    "    # p.add_mesh(box.outline(), color='black', opacity=1, line_width=0.6)\n",
    "\n",
    "    # p.show_bounds(grid, color='black', location='outer', fmt='%.2f', font_family='arial')\n",
    "\n",
    "    p.add_mesh(contours.smooth(n_iter=100), opacity=1, style='surface', scalars='my', clim=[-1, 1],\n",
    "               cmap='RdBu', show_scalar_bar=False, \n",
    "               smooth_shading=True, # lighting=True, specular=0.6, specular_power=10, ambient=0.\n",
    "               )\n",
    "    p.add_mesh(grid.slice(normal='z'), opacity=1, style='surface', scalars='mz', cmap='magma', \n",
    "               show_scalar_bar=False, clim=[-1, 1], # scalar_bar_args=sargs\n",
    "               )\n",
    "    p.add_mesh(grid.outline(), opacity=1, style='surface', color='grey')\n",
    "\n",
    "    arrows = contours.glyph(scale=False, factor=30, orient=\"m_vec\",\n",
    "                            tolerance=0.03, geom=pv.Arrow(tip_length=0.5, tip_radius=0.2)\n",
    "                            )\n",
    "    p.add_mesh(arrows, color='grey')\n",
    "\n",
    "    light = pv.Light(position=(1, 0, -0.8), light_type='scene light', intensity=0.5)\n",
    "    p.add_light(light)\n",
    "\n",
    "    p.add_text(f'By = {by} mT\\nInitial separation: {float(sep) * 1e-2} Lx', position='upper_left', \n",
    "               font_size=10, color='k', font='courier', \n",
    "               shadow=False, name=None, viewport=False)\n",
    "\n",
    "    p.set_background('white')\n",
    "    p.view_isometric()\n",
    "    # p.camera.SetWindowCenter(0., -0.09)\n",
    "    # p.camera.zoom(2.)\n",
    "    # p.camera.SetParallelProjection(1)\n",
    "\n",
    "    # p.camera.azimuth = -135\n",
    "    # p.camera.roll = 180\n",
    "    # p.camera.elevation = -30\n",
    "\n",
    "    p.camera_position = 'xz'\n",
    "    # p.camera.azimuth = 10\n",
    "    p.camera.elevation = -65\n",
    "    p.camera.zoom(1.6)\n",
    "\n",
    "    p.add_axes(color='black', box=False, line_width=1)\n",
    "    p.show(jupyter_backend='none', window_size=[600, 350], \n",
    "           screenshot=SNAPS_DIR / f'two_tubes_sk-sep_{sep}_pLx_By_-{abs(by):06d}_mT.png'\n",
    "           )"
   ]
  },
  {
   "cell_type": "code",
   "execution_count": 159,
   "metadata": {},
   "outputs": [
    {
     "name": "stdout",
     "output_type": "stream",
     "text": [
      "0.06821467292679566\n"
     ]
    }
   ],
   "source": [
    "Ac = 5.72957795e-12\n",
    "Dc = 0.6e-3\n",
    "Ms = 4.60545e5\n",
    "\n",
    "LD = 4 * np.pi * (Ac) / (Dc)\n",
    "BD = (Dc * Dc) / (Ac * Ms)\n",
    "print(BD * 0.5)"
   ]
  },
  {
   "cell_type": "code",
   "execution_count": null,
   "metadata": {},
   "outputs": [],
   "source": []
  }
 ],
 "metadata": {
  "kernelspec": {
   "display_name": "Python 3",
   "language": "python",
   "name": "python3"
  },
  "language_info": {
   "codemirror_mode": {
    "name": "ipython",
    "version": 3
   },
   "file_extension": ".py",
   "mimetype": "text/x-python",
   "name": "python",
   "nbconvert_exporter": "python",
   "pygments_lexer": "ipython3",
   "version": "3.8.10"
  }
 },
 "nbformat": 4,
 "nbformat_minor": 4
}
